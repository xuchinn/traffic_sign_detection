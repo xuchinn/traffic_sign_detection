{
 "cells": [
  {
   "cell_type": "code",
   "execution_count": 1,
   "metadata": {},
   "outputs": [
    {
     "name": "stderr",
     "output_type": "stream",
     "text": [
      "c:\\Users\\Clarissa Angelia\\AppData\\Local\\Programs\\Python\\Python310\\lib\\site-packages\\tqdm\\auto.py:22: TqdmWarning: IProgress not found. Please update jupyter and ipywidgets. See https://ipywidgets.readthedocs.io/en/stable/user_install.html\n",
      "  from .autonotebook import tqdm as notebook_tqdm\n"
     ]
    },
    {
     "name": "stdout",
     "output_type": "stream",
     "text": [
      "[PhysicalDevice(name='/physical_device:GPU:0', device_type='GPU')]\n"
     ]
    }
   ],
   "source": [
    "import tensorflow as tf\n",
    "import tensorflow_datasets as tfds\n",
    "import numpy as np\n",
    "import matplotlib.pyplot as plt\n",
    "\n",
    "print(tf.config.list_physical_devices('GPU'))\n"
   ]
  },
  {
   "cell_type": "code",
   "execution_count": 2,
   "metadata": {},
   "outputs": [],
   "source": [
    "config = tf.compat.v1.ConfigProto()\n",
    "config.gpu_options.per_process_gpu_memory_fraction = 0.8  # allocate 80% of GPU memory\n",
    "session = tf.compat.v1.Session(config=config)"
   ]
  },
  {
   "cell_type": "markdown",
   "metadata": {
    "vscode": {
     "languageId": "plaintext"
    }
   },
   "source": [
    "LOAD DATA"
   ]
  },
  {
   "attachments": {},
   "cell_type": "markdown",
   "metadata": {},
   "source": [
    "Split Training Dataset"
   ]
  },
  {
   "attachments": {},
   "cell_type": "markdown",
   "metadata": {},
   "source": [
    "Imbalance Dataset"
   ]
  },
  {
   "cell_type": "code",
   "execution_count": 3,
   "metadata": {},
   "outputs": [
    {
     "name": "stdout",
     "output_type": "stream",
     "text": [
      "Found 1300 files belonging to 1 classes.\n",
      "Using 260 files for training.\n",
      "['410_sulphur-crested cockatoo']\n",
      "Found 1300 files belonging to 1 classes.\n",
      "Using 910 files for training.\n",
      "Found 1300 files belonging to 1 classes.\n",
      "Using 650 files for training.\n",
      "Found 1300 files belonging to 1 classes.\n",
      "Using 130 files for training.\n",
      "Found 1300 files belonging to 1 classes.\n",
      "Using 391 files for training.\n",
      "Found 1300 files belonging to 1 classes.\n",
      "Using 520 files for training.\n"
     ]
    },
    {
     "ename": "KeyboardInterrupt",
     "evalue": "",
     "output_type": "error",
     "traceback": [
      "\u001b[1;31m---------------------------------------------------------------------------\u001b[0m",
      "\u001b[1;31mKeyboardInterrupt\u001b[0m                         Traceback (most recent call last)",
      "Cell \u001b[1;32mIn[3], line 11\u001b[0m\n\u001b[0;32m      7\u001b[0m \u001b[39m# train_ds = tf.data.Dataset.from_tensor_slices([])\u001b[39;00m\n\u001b[0;32m      8\u001b[0m \u001b[39m# print(train_ds.class_names)\u001b[39;00m\n\u001b[0;32m      9\u001b[0m \u001b[39mfor\u001b[39;00m i, path_i \u001b[39min\u001b[39;00m \u001b[39menumerate\u001b[39m(path_class) :\n\u001b[1;32m---> 11\u001b[0m     temp \u001b[39m=\u001b[39m tf\u001b[39m.\u001b[39;49mkeras\u001b[39m.\u001b[39;49mutils\u001b[39m.\u001b[39;49mimage_dataset_from_directory(\n\u001b[0;32m     12\u001b[0m \n\u001b[0;32m     13\u001b[0m         directory\u001b[39m=\u001b[39;49mpath\u001b[39m+\u001b[39;49mpath_i,\n\u001b[0;32m     14\u001b[0m         labels\u001b[39m=\u001b[39;49m \u001b[39mNone\u001b[39;49;00m,\n\u001b[0;32m     15\u001b[0m         label_mode\u001b[39m=\u001b[39;49m\u001b[39m'\u001b[39;49m\u001b[39mcategorical\u001b[39;49m\u001b[39m'\u001b[39;49m,\n\u001b[0;32m     16\u001b[0m         color_mode\u001b[39m=\u001b[39;49m\u001b[39m'\u001b[39;49m\u001b[39mrgb\u001b[39;49m\u001b[39m'\u001b[39;49m,\n\u001b[0;32m     17\u001b[0m         batch_size\u001b[39m=\u001b[39;49m\u001b[39mNone\u001b[39;49;00m,\n\u001b[0;32m     18\u001b[0m         image_size\u001b[39m=\u001b[39;49m(\u001b[39m224\u001b[39;49m,\u001b[39m224\u001b[39;49m),\n\u001b[0;32m     19\u001b[0m         shuffle\u001b[39m=\u001b[39;49m\u001b[39mTrue\u001b[39;49;00m,\n\u001b[0;32m     20\u001b[0m         validation_split\u001b[39m=\u001b[39;49mclass_prob[i],\n\u001b[0;32m     21\u001b[0m         subset\u001b[39m=\u001b[39;49m\u001b[39m\"\u001b[39;49m\u001b[39mtraining\u001b[39;49m\u001b[39m\"\u001b[39;49m,\n\u001b[0;32m     22\u001b[0m         seed\u001b[39m=\u001b[39;49m\u001b[39m42\u001b[39;49m\n\u001b[0;32m     23\u001b[0m     )\n\u001b[0;32m     24\u001b[0m     temp\u001b[39m.\u001b[39mclass_names\u001b[39m=\u001b[39m path_i\n\u001b[0;32m     25\u001b[0m     \u001b[39m# print(temp.class_names)\u001b[39;00m\n",
      "File \u001b[1;32mc:\\Users\\Clarissa Angelia\\AppData\\Local\\Programs\\Python\\Python310\\lib\\site-packages\\keras\\utils\\image_dataset.py:299\u001b[0m, in \u001b[0;36mimage_dataset_from_directory\u001b[1;34m(directory, labels, label_mode, class_names, color_mode, batch_size, image_size, shuffle, seed, validation_split, subset, interpolation, follow_links, crop_to_aspect_ratio, **kwargs)\u001b[0m\n\u001b[0;32m    293\u001b[0m \u001b[39mif\u001b[39;00m \u001b[39mnot\u001b[39;00m image_paths:\n\u001b[0;32m    294\u001b[0m     \u001b[39mraise\u001b[39;00m \u001b[39mValueError\u001b[39;00m(\n\u001b[0;32m    295\u001b[0m         \u001b[39mf\u001b[39m\u001b[39m\"\u001b[39m\u001b[39mNo images found in directory \u001b[39m\u001b[39m{\u001b[39;00mdirectory\u001b[39m}\u001b[39;00m\u001b[39m. \u001b[39m\u001b[39m\"\u001b[39m\n\u001b[0;32m    296\u001b[0m         \u001b[39mf\u001b[39m\u001b[39m\"\u001b[39m\u001b[39mAllowed formats: \u001b[39m\u001b[39m{\u001b[39;00mALLOWLIST_FORMATS\u001b[39m}\u001b[39;00m\u001b[39m\"\u001b[39m\n\u001b[0;32m    297\u001b[0m     )\n\u001b[1;32m--> 299\u001b[0m dataset \u001b[39m=\u001b[39m paths_and_labels_to_dataset(\n\u001b[0;32m    300\u001b[0m     image_paths\u001b[39m=\u001b[39;49mimage_paths,\n\u001b[0;32m    301\u001b[0m     image_size\u001b[39m=\u001b[39;49mimage_size,\n\u001b[0;32m    302\u001b[0m     num_channels\u001b[39m=\u001b[39;49mnum_channels,\n\u001b[0;32m    303\u001b[0m     labels\u001b[39m=\u001b[39;49mlabels,\n\u001b[0;32m    304\u001b[0m     label_mode\u001b[39m=\u001b[39;49mlabel_mode,\n\u001b[0;32m    305\u001b[0m     num_classes\u001b[39m=\u001b[39;49m\u001b[39mlen\u001b[39;49m(class_names),\n\u001b[0;32m    306\u001b[0m     interpolation\u001b[39m=\u001b[39;49minterpolation,\n\u001b[0;32m    307\u001b[0m     crop_to_aspect_ratio\u001b[39m=\u001b[39;49mcrop_to_aspect_ratio,\n\u001b[0;32m    308\u001b[0m )\n\u001b[0;32m    309\u001b[0m dataset \u001b[39m=\u001b[39m dataset\u001b[39m.\u001b[39mprefetch(tf\u001b[39m.\u001b[39mdata\u001b[39m.\u001b[39mAUTOTUNE)\n\u001b[0;32m    310\u001b[0m \u001b[39mif\u001b[39;00m batch_size \u001b[39mis\u001b[39;00m \u001b[39mnot\u001b[39;00m \u001b[39mNone\u001b[39;00m:\n",
      "File \u001b[1;32mc:\\Users\\Clarissa Angelia\\AppData\\Local\\Programs\\Python\\Python310\\lib\\site-packages\\keras\\utils\\image_dataset.py:340\u001b[0m, in \u001b[0;36mpaths_and_labels_to_dataset\u001b[1;34m(image_paths, image_size, num_channels, labels, label_mode, num_classes, interpolation, crop_to_aspect_ratio)\u001b[0m\n\u001b[0;32m    338\u001b[0m path_ds \u001b[39m=\u001b[39m tf\u001b[39m.\u001b[39mdata\u001b[39m.\u001b[39mDataset\u001b[39m.\u001b[39mfrom_tensor_slices(image_paths)\n\u001b[0;32m    339\u001b[0m args \u001b[39m=\u001b[39m (image_size, num_channels, interpolation, crop_to_aspect_ratio)\n\u001b[1;32m--> 340\u001b[0m img_ds \u001b[39m=\u001b[39m path_ds\u001b[39m.\u001b[39;49mmap(\n\u001b[0;32m    341\u001b[0m     \u001b[39mlambda\u001b[39;49;00m x: load_image(x, \u001b[39m*\u001b[39;49margs), num_parallel_calls\u001b[39m=\u001b[39;49mtf\u001b[39m.\u001b[39;49mdata\u001b[39m.\u001b[39;49mAUTOTUNE\n\u001b[0;32m    342\u001b[0m )\n\u001b[0;32m    343\u001b[0m \u001b[39mif\u001b[39;00m label_mode:\n\u001b[0;32m    344\u001b[0m     label_ds \u001b[39m=\u001b[39m dataset_utils\u001b[39m.\u001b[39mlabels_to_dataset(\n\u001b[0;32m    345\u001b[0m         labels, label_mode, num_classes\n\u001b[0;32m    346\u001b[0m     )\n",
      "File \u001b[1;32mc:\\Users\\Clarissa Angelia\\AppData\\Local\\Programs\\Python\\Python310\\lib\\site-packages\\tensorflow\\python\\data\\ops\\dataset_ops.py:2204\u001b[0m, in \u001b[0;36mDatasetV2.map\u001b[1;34m(self, map_func, num_parallel_calls, deterministic, name)\u001b[0m\n\u001b[0;32m   2202\u001b[0m   \u001b[39mreturn\u001b[39;00m MapDataset(\u001b[39mself\u001b[39m, map_func, preserve_cardinality\u001b[39m=\u001b[39m\u001b[39mTrue\u001b[39;00m, name\u001b[39m=\u001b[39mname)\n\u001b[0;32m   2203\u001b[0m \u001b[39melse\u001b[39;00m:\n\u001b[1;32m-> 2204\u001b[0m   \u001b[39mreturn\u001b[39;00m ParallelMapDataset(\n\u001b[0;32m   2205\u001b[0m       \u001b[39mself\u001b[39;49m,\n\u001b[0;32m   2206\u001b[0m       map_func,\n\u001b[0;32m   2207\u001b[0m       num_parallel_calls,\n\u001b[0;32m   2208\u001b[0m       deterministic,\n\u001b[0;32m   2209\u001b[0m       preserve_cardinality\u001b[39m=\u001b[39;49m\u001b[39mTrue\u001b[39;49;00m,\n\u001b[0;32m   2210\u001b[0m       name\u001b[39m=\u001b[39;49mname)\n",
      "File \u001b[1;32mc:\\Users\\Clarissa Angelia\\AppData\\Local\\Programs\\Python\\Python310\\lib\\site-packages\\tensorflow\\python\\data\\ops\\dataset_ops.py:5441\u001b[0m, in \u001b[0;36mParallelMapDataset.__init__\u001b[1;34m(self, input_dataset, map_func, num_parallel_calls, deterministic, use_inter_op_parallelism, preserve_cardinality, use_legacy_function, name)\u001b[0m\n\u001b[0;32m   5439\u001b[0m \u001b[39mself\u001b[39m\u001b[39m.\u001b[39m_input_dataset \u001b[39m=\u001b[39m input_dataset\n\u001b[0;32m   5440\u001b[0m \u001b[39mself\u001b[39m\u001b[39m.\u001b[39m_use_inter_op_parallelism \u001b[39m=\u001b[39m use_inter_op_parallelism\n\u001b[1;32m-> 5441\u001b[0m \u001b[39mself\u001b[39m\u001b[39m.\u001b[39m_map_func \u001b[39m=\u001b[39m structured_function\u001b[39m.\u001b[39;49mStructuredFunctionWrapper(\n\u001b[0;32m   5442\u001b[0m     map_func,\n\u001b[0;32m   5443\u001b[0m     \u001b[39mself\u001b[39;49m\u001b[39m.\u001b[39;49m_transformation_name(),\n\u001b[0;32m   5444\u001b[0m     dataset\u001b[39m=\u001b[39;49minput_dataset,\n\u001b[0;32m   5445\u001b[0m     use_legacy_function\u001b[39m=\u001b[39;49muse_legacy_function)\n\u001b[0;32m   5446\u001b[0m \u001b[39mif\u001b[39;00m deterministic \u001b[39mis\u001b[39;00m \u001b[39mNone\u001b[39;00m:\n\u001b[0;32m   5447\u001b[0m   \u001b[39mself\u001b[39m\u001b[39m.\u001b[39m_deterministic \u001b[39m=\u001b[39m \u001b[39m\"\u001b[39m\u001b[39mdefault\u001b[39m\u001b[39m\"\u001b[39m\n",
      "File \u001b[1;32mc:\\Users\\Clarissa Angelia\\AppData\\Local\\Programs\\Python\\Python310\\lib\\site-packages\\tensorflow\\python\\data\\ops\\structured_function.py:271\u001b[0m, in \u001b[0;36mStructuredFunctionWrapper.__init__\u001b[1;34m(self, func, transformation_name, dataset, input_classes, input_shapes, input_types, input_structure, add_to_graph, use_legacy_function, defun_kwargs)\u001b[0m\n\u001b[0;32m    264\u001b[0m       warnings\u001b[39m.\u001b[39mwarn(\n\u001b[0;32m    265\u001b[0m           \u001b[39m\"\u001b[39m\u001b[39mEven though the `tf.config.experimental_run_functions_eagerly` \u001b[39m\u001b[39m\"\u001b[39m\n\u001b[0;32m    266\u001b[0m           \u001b[39m\"\u001b[39m\u001b[39moption is set, this option does not apply to tf.data functions. \u001b[39m\u001b[39m\"\u001b[39m\n\u001b[0;32m    267\u001b[0m           \u001b[39m\"\u001b[39m\u001b[39mTo force eager execution of tf.data functions, please use \u001b[39m\u001b[39m\"\u001b[39m\n\u001b[0;32m    268\u001b[0m           \u001b[39m\"\u001b[39m\u001b[39m`tf.data.experimental.enable_debug_mode()`.\u001b[39m\u001b[39m\"\u001b[39m)\n\u001b[0;32m    269\u001b[0m     fn_factory \u001b[39m=\u001b[39m trace_tf_function(defun_kwargs)\n\u001b[1;32m--> 271\u001b[0m \u001b[39mself\u001b[39m\u001b[39m.\u001b[39m_function \u001b[39m=\u001b[39m fn_factory()\n\u001b[0;32m    272\u001b[0m \u001b[39m# There is no graph to add in eager mode.\u001b[39;00m\n\u001b[0;32m    273\u001b[0m add_to_graph \u001b[39m&\u001b[39m\u001b[39m=\u001b[39m \u001b[39mnot\u001b[39;00m context\u001b[39m.\u001b[39mexecuting_eagerly()\n",
      "File \u001b[1;32mc:\\Users\\Clarissa Angelia\\AppData\\Local\\Programs\\Python\\Python310\\lib\\site-packages\\tensorflow\\python\\eager\\function.py:2610\u001b[0m, in \u001b[0;36mFunction.get_concrete_function\u001b[1;34m(self, *args, **kwargs)\u001b[0m\n\u001b[0;32m   2601\u001b[0m \u001b[39mdef\u001b[39;00m \u001b[39mget_concrete_function\u001b[39m(\u001b[39mself\u001b[39m, \u001b[39m*\u001b[39margs, \u001b[39m*\u001b[39m\u001b[39m*\u001b[39mkwargs):\n\u001b[0;32m   2602\u001b[0m \u001b[39m  \u001b[39m\u001b[39m\"\"\"Returns a `ConcreteFunction` specialized to inputs and execution context.\u001b[39;00m\n\u001b[0;32m   2603\u001b[0m \n\u001b[0;32m   2604\u001b[0m \u001b[39m  Args:\u001b[39;00m\n\u001b[1;32m   (...)\u001b[0m\n\u001b[0;32m   2608\u001b[0m \u001b[39m       or `tf.Tensor` or `tf.TensorSpec`.\u001b[39;00m\n\u001b[0;32m   2609\u001b[0m \u001b[39m  \"\"\"\u001b[39;00m\n\u001b[1;32m-> 2610\u001b[0m   graph_function \u001b[39m=\u001b[39m \u001b[39mself\u001b[39m\u001b[39m.\u001b[39m_get_concrete_function_garbage_collected(\n\u001b[0;32m   2611\u001b[0m       \u001b[39m*\u001b[39margs, \u001b[39m*\u001b[39m\u001b[39m*\u001b[39mkwargs)\n\u001b[0;32m   2612\u001b[0m   graph_function\u001b[39m.\u001b[39m_garbage_collector\u001b[39m.\u001b[39mrelease()  \u001b[39m# pylint: disable=protected-access\u001b[39;00m\n\u001b[0;32m   2613\u001b[0m   \u001b[39mreturn\u001b[39;00m graph_function\n",
      "File \u001b[1;32mc:\\Users\\Clarissa Angelia\\AppData\\Local\\Programs\\Python\\Python310\\lib\\site-packages\\tensorflow\\python\\eager\\function.py:2576\u001b[0m, in \u001b[0;36mFunction._get_concrete_function_garbage_collected\u001b[1;34m(self, *args, **kwargs)\u001b[0m\n\u001b[0;32m   2574\u001b[0m   args, kwargs \u001b[39m=\u001b[39m \u001b[39mNone\u001b[39;00m, \u001b[39mNone\u001b[39;00m\n\u001b[0;32m   2575\u001b[0m \u001b[39mwith\u001b[39;00m \u001b[39mself\u001b[39m\u001b[39m.\u001b[39m_lock:\n\u001b[1;32m-> 2576\u001b[0m   graph_function, _ \u001b[39m=\u001b[39m \u001b[39mself\u001b[39;49m\u001b[39m.\u001b[39;49m_maybe_define_function(args, kwargs)\n\u001b[0;32m   2577\u001b[0m   seen_names \u001b[39m=\u001b[39m \u001b[39mset\u001b[39m()\n\u001b[0;32m   2578\u001b[0m   captured \u001b[39m=\u001b[39m object_identity\u001b[39m.\u001b[39mObjectIdentitySet(\n\u001b[0;32m   2579\u001b[0m       graph_function\u001b[39m.\u001b[39mgraph\u001b[39m.\u001b[39minternal_captures)\n",
      "File \u001b[1;32mc:\\Users\\Clarissa Angelia\\AppData\\Local\\Programs\\Python\\Python310\\lib\\site-packages\\tensorflow\\python\\eager\\function.py:2760\u001b[0m, in \u001b[0;36mFunction._maybe_define_function\u001b[1;34m(self, args, kwargs)\u001b[0m\n\u001b[0;32m   2758\u001b[0m   \u001b[39m# Only get placeholders for arguments, not captures\u001b[39;00m\n\u001b[0;32m   2759\u001b[0m   args, kwargs \u001b[39m=\u001b[39m placeholder_dict[\u001b[39m\"\u001b[39m\u001b[39margs\u001b[39m\u001b[39m\"\u001b[39m]\n\u001b[1;32m-> 2760\u001b[0m graph_function \u001b[39m=\u001b[39m \u001b[39mself\u001b[39;49m\u001b[39m.\u001b[39;49m_create_graph_function(args, kwargs)\n\u001b[0;32m   2762\u001b[0m graph_capture_container \u001b[39m=\u001b[39m graph_function\u001b[39m.\u001b[39mgraph\u001b[39m.\u001b[39m_capture_func_lib  \u001b[39m# pylint: disable=protected-access\u001b[39;00m\n\u001b[0;32m   2763\u001b[0m \u001b[39m# Maintain the list of all captures\u001b[39;00m\n",
      "File \u001b[1;32mc:\\Users\\Clarissa Angelia\\AppData\\Local\\Programs\\Python\\Python310\\lib\\site-packages\\tensorflow\\python\\eager\\function.py:2670\u001b[0m, in \u001b[0;36mFunction._create_graph_function\u001b[1;34m(self, args, kwargs)\u001b[0m\n\u001b[0;32m   2665\u001b[0m missing_arg_names \u001b[39m=\u001b[39m [\n\u001b[0;32m   2666\u001b[0m     \u001b[39m\"\u001b[39m\u001b[39m%s\u001b[39;00m\u001b[39m_\u001b[39m\u001b[39m%d\u001b[39;00m\u001b[39m\"\u001b[39m \u001b[39m%\u001b[39m (arg, i) \u001b[39mfor\u001b[39;00m i, arg \u001b[39min\u001b[39;00m \u001b[39menumerate\u001b[39m(missing_arg_names)\n\u001b[0;32m   2667\u001b[0m ]\n\u001b[0;32m   2668\u001b[0m arg_names \u001b[39m=\u001b[39m base_arg_names \u001b[39m+\u001b[39m missing_arg_names\n\u001b[0;32m   2669\u001b[0m graph_function \u001b[39m=\u001b[39m ConcreteFunction(\n\u001b[1;32m-> 2670\u001b[0m     func_graph_module\u001b[39m.\u001b[39;49mfunc_graph_from_py_func(\n\u001b[0;32m   2671\u001b[0m         \u001b[39mself\u001b[39;49m\u001b[39m.\u001b[39;49m_name,\n\u001b[0;32m   2672\u001b[0m         \u001b[39mself\u001b[39;49m\u001b[39m.\u001b[39;49m_python_function,\n\u001b[0;32m   2673\u001b[0m         args,\n\u001b[0;32m   2674\u001b[0m         kwargs,\n\u001b[0;32m   2675\u001b[0m         \u001b[39mself\u001b[39;49m\u001b[39m.\u001b[39;49minput_signature,\n\u001b[0;32m   2676\u001b[0m         autograph\u001b[39m=\u001b[39;49m\u001b[39mself\u001b[39;49m\u001b[39m.\u001b[39;49m_autograph,\n\u001b[0;32m   2677\u001b[0m         autograph_options\u001b[39m=\u001b[39;49m\u001b[39mself\u001b[39;49m\u001b[39m.\u001b[39;49m_autograph_options,\n\u001b[0;32m   2678\u001b[0m         arg_names\u001b[39m=\u001b[39;49marg_names,\n\u001b[0;32m   2679\u001b[0m         capture_by_value\u001b[39m=\u001b[39;49m\u001b[39mself\u001b[39;49m\u001b[39m.\u001b[39;49m_capture_by_value),\n\u001b[0;32m   2680\u001b[0m     \u001b[39mself\u001b[39m\u001b[39m.\u001b[39m_function_attributes,\n\u001b[0;32m   2681\u001b[0m     spec\u001b[39m=\u001b[39m\u001b[39mself\u001b[39m\u001b[39m.\u001b[39mfunction_spec,\n\u001b[0;32m   2682\u001b[0m     \u001b[39m# Tell the ConcreteFunction to clean up its graph once it goes out of\u001b[39;00m\n\u001b[0;32m   2683\u001b[0m     \u001b[39m# scope. This is not the default behavior since it gets used in some\u001b[39;00m\n\u001b[0;32m   2684\u001b[0m     \u001b[39m# places (like Keras) where the FuncGraph lives longer than the\u001b[39;00m\n\u001b[0;32m   2685\u001b[0m     \u001b[39m# ConcreteFunction.\u001b[39;00m\n\u001b[0;32m   2686\u001b[0m     shared_func_graph\u001b[39m=\u001b[39m\u001b[39mFalse\u001b[39;00m)\n\u001b[0;32m   2687\u001b[0m \u001b[39mreturn\u001b[39;00m graph_function\n",
      "File \u001b[1;32mc:\\Users\\Clarissa Angelia\\AppData\\Local\\Programs\\Python\\Python310\\lib\\site-packages\\tensorflow\\python\\framework\\func_graph.py:1247\u001b[0m, in \u001b[0;36mfunc_graph_from_py_func\u001b[1;34m(name, python_func, args, kwargs, signature, func_graph, autograph, autograph_options, add_control_dependencies, arg_names, op_return_value, collections, capture_by_value, acd_record_initial_resource_uses)\u001b[0m\n\u001b[0;32m   1244\u001b[0m \u001b[39melse\u001b[39;00m:\n\u001b[0;32m   1245\u001b[0m   _, original_func \u001b[39m=\u001b[39m tf_decorator\u001b[39m.\u001b[39munwrap(python_func)\n\u001b[1;32m-> 1247\u001b[0m func_outputs \u001b[39m=\u001b[39m python_func(\u001b[39m*\u001b[39mfunc_args, \u001b[39m*\u001b[39m\u001b[39m*\u001b[39mfunc_kwargs)\n\u001b[0;32m   1249\u001b[0m \u001b[39m# invariant: `func_outputs` contains only Tensors, CompositeTensors,\u001b[39;00m\n\u001b[0;32m   1250\u001b[0m \u001b[39m# TensorArrays and `None`s.\u001b[39;00m\n\u001b[0;32m   1251\u001b[0m func_outputs \u001b[39m=\u001b[39m nest\u001b[39m.\u001b[39mmap_structure(\n\u001b[0;32m   1252\u001b[0m     convert, func_outputs, expand_composites\u001b[39m=\u001b[39m\u001b[39mTrue\u001b[39;00m)\n",
      "File \u001b[1;32mc:\\Users\\Clarissa Angelia\\AppData\\Local\\Programs\\Python\\Python310\\lib\\site-packages\\tensorflow\\python\\data\\ops\\structured_function.py:248\u001b[0m, in \u001b[0;36mStructuredFunctionWrapper.__init__.<locals>.trace_tf_function.<locals>.wrapped_fn\u001b[1;34m(*args)\u001b[0m\n\u001b[0;32m    242\u001b[0m \u001b[39m@eager_function\u001b[39m\u001b[39m.\u001b[39mdefun_with_attributes(\n\u001b[0;32m    243\u001b[0m     input_signature\u001b[39m=\u001b[39mstructure\u001b[39m.\u001b[39mget_flat_tensor_specs(\n\u001b[0;32m    244\u001b[0m         \u001b[39mself\u001b[39m\u001b[39m.\u001b[39m_input_structure),\n\u001b[0;32m    245\u001b[0m     autograph\u001b[39m=\u001b[39m\u001b[39mFalse\u001b[39;00m,\n\u001b[0;32m    246\u001b[0m     attributes\u001b[39m=\u001b[39mdefun_kwargs)\n\u001b[0;32m    247\u001b[0m \u001b[39mdef\u001b[39;00m \u001b[39mwrapped_fn\u001b[39m(\u001b[39m*\u001b[39margs):  \u001b[39m# pylint: disable=missing-docstring\u001b[39;00m\n\u001b[1;32m--> 248\u001b[0m   ret \u001b[39m=\u001b[39m wrapper_helper(\u001b[39m*\u001b[39;49margs)\n\u001b[0;32m    249\u001b[0m   ret \u001b[39m=\u001b[39m structure\u001b[39m.\u001b[39mto_tensor_list(\u001b[39mself\u001b[39m\u001b[39m.\u001b[39m_output_structure, ret)\n\u001b[0;32m    250\u001b[0m   \u001b[39mreturn\u001b[39;00m [ops\u001b[39m.\u001b[39mconvert_to_tensor(t) \u001b[39mfor\u001b[39;00m t \u001b[39min\u001b[39;00m ret]\n",
      "File \u001b[1;32mc:\\Users\\Clarissa Angelia\\AppData\\Local\\Programs\\Python\\Python310\\lib\\site-packages\\tensorflow\\python\\data\\ops\\structured_function.py:177\u001b[0m, in \u001b[0;36mStructuredFunctionWrapper.__init__.<locals>.wrapper_helper\u001b[1;34m(*args)\u001b[0m\n\u001b[0;32m    175\u001b[0m \u001b[39mif\u001b[39;00m \u001b[39mnot\u001b[39;00m _should_unpack(nested_args):\n\u001b[0;32m    176\u001b[0m   nested_args \u001b[39m=\u001b[39m (nested_args,)\n\u001b[1;32m--> 177\u001b[0m ret \u001b[39m=\u001b[39m autograph\u001b[39m.\u001b[39;49mtf_convert(\u001b[39mself\u001b[39;49m\u001b[39m.\u001b[39;49m_func, ag_ctx)(\u001b[39m*\u001b[39;49mnested_args)\n\u001b[0;32m    178\u001b[0m \u001b[39mif\u001b[39;00m _should_pack(ret):\n\u001b[0;32m    179\u001b[0m   ret \u001b[39m=\u001b[39m \u001b[39mtuple\u001b[39m(ret)\n",
      "File \u001b[1;32mc:\\Users\\Clarissa Angelia\\AppData\\Local\\Programs\\Python\\Python310\\lib\\site-packages\\tensorflow\\python\\autograph\\impl\\api.py:689\u001b[0m, in \u001b[0;36mconvert.<locals>.decorator.<locals>.wrapper\u001b[1;34m(*args, **kwargs)\u001b[0m\n\u001b[0;32m    687\u001b[0m \u001b[39mtry\u001b[39;00m:\n\u001b[0;32m    688\u001b[0m   \u001b[39mwith\u001b[39;00m conversion_ctx:\n\u001b[1;32m--> 689\u001b[0m     \u001b[39mreturn\u001b[39;00m converted_call(f, args, kwargs, options\u001b[39m=\u001b[39;49moptions)\n\u001b[0;32m    690\u001b[0m \u001b[39mexcept\u001b[39;00m \u001b[39mException\u001b[39;00m \u001b[39mas\u001b[39;00m e:  \u001b[39m# pylint:disable=broad-except\u001b[39;00m\n\u001b[0;32m    691\u001b[0m   \u001b[39mif\u001b[39;00m \u001b[39mhasattr\u001b[39m(e, \u001b[39m'\u001b[39m\u001b[39mag_error_metadata\u001b[39m\u001b[39m'\u001b[39m):\n",
      "File \u001b[1;32mc:\\Users\\Clarissa Angelia\\AppData\\Local\\Programs\\Python\\Python310\\lib\\site-packages\\tensorflow\\python\\autograph\\impl\\api.py:377\u001b[0m, in \u001b[0;36mconverted_call\u001b[1;34m(f, args, kwargs, caller_fn_scope, options)\u001b[0m\n\u001b[0;32m    374\u001b[0m   \u001b[39mreturn\u001b[39;00m _call_unconverted(f, args, kwargs, options)\n\u001b[0;32m    376\u001b[0m \u001b[39mif\u001b[39;00m \u001b[39mnot\u001b[39;00m options\u001b[39m.\u001b[39muser_requested \u001b[39mand\u001b[39;00m conversion\u001b[39m.\u001b[39mis_allowlisted(f):\n\u001b[1;32m--> 377\u001b[0m   \u001b[39mreturn\u001b[39;00m _call_unconverted(f, args, kwargs, options)\n\u001b[0;32m    379\u001b[0m \u001b[39m# internal_convert_user_code is for example turned off when issuing a dynamic\u001b[39;00m\n\u001b[0;32m    380\u001b[0m \u001b[39m# call conversion from generated code while in nonrecursive mode. In that\u001b[39;00m\n\u001b[0;32m    381\u001b[0m \u001b[39m# case we evidently don't want to recurse, but we still have to convert\u001b[39;00m\n\u001b[0;32m    382\u001b[0m \u001b[39m# things like builtins.\u001b[39;00m\n\u001b[0;32m    383\u001b[0m \u001b[39mif\u001b[39;00m \u001b[39mnot\u001b[39;00m options\u001b[39m.\u001b[39minternal_convert_user_code:\n",
      "File \u001b[1;32mc:\\Users\\Clarissa Angelia\\AppData\\Local\\Programs\\Python\\Python310\\lib\\site-packages\\tensorflow\\python\\autograph\\impl\\api.py:458\u001b[0m, in \u001b[0;36m_call_unconverted\u001b[1;34m(f, args, kwargs, options, update_cache)\u001b[0m\n\u001b[0;32m    455\u001b[0m   \u001b[39mreturn\u001b[39;00m f\u001b[39m.\u001b[39m\u001b[39m__self__\u001b[39m\u001b[39m.\u001b[39mcall(args, kwargs)\n\u001b[0;32m    457\u001b[0m \u001b[39mif\u001b[39;00m kwargs \u001b[39mis\u001b[39;00m \u001b[39mnot\u001b[39;00m \u001b[39mNone\u001b[39;00m:\n\u001b[1;32m--> 458\u001b[0m   \u001b[39mreturn\u001b[39;00m f(\u001b[39m*\u001b[39margs, \u001b[39m*\u001b[39m\u001b[39m*\u001b[39mkwargs)\n\u001b[0;32m    459\u001b[0m \u001b[39mreturn\u001b[39;00m f(\u001b[39m*\u001b[39margs)\n",
      "File \u001b[1;32mc:\\Users\\Clarissa Angelia\\AppData\\Local\\Programs\\Python\\Python310\\lib\\site-packages\\keras\\utils\\image_dataset.py:341\u001b[0m, in \u001b[0;36mpaths_and_labels_to_dataset.<locals>.<lambda>\u001b[1;34m(x)\u001b[0m\n\u001b[0;32m    338\u001b[0m path_ds \u001b[39m=\u001b[39m tf\u001b[39m.\u001b[39mdata\u001b[39m.\u001b[39mDataset\u001b[39m.\u001b[39mfrom_tensor_slices(image_paths)\n\u001b[0;32m    339\u001b[0m args \u001b[39m=\u001b[39m (image_size, num_channels, interpolation, crop_to_aspect_ratio)\n\u001b[0;32m    340\u001b[0m img_ds \u001b[39m=\u001b[39m path_ds\u001b[39m.\u001b[39mmap(\n\u001b[1;32m--> 341\u001b[0m     \u001b[39mlambda\u001b[39;00m x: load_image(x, \u001b[39m*\u001b[39;49margs), num_parallel_calls\u001b[39m=\u001b[39mtf\u001b[39m.\u001b[39mdata\u001b[39m.\u001b[39mAUTOTUNE\n\u001b[0;32m    342\u001b[0m )\n\u001b[0;32m    343\u001b[0m \u001b[39mif\u001b[39;00m label_mode:\n\u001b[0;32m    344\u001b[0m     label_ds \u001b[39m=\u001b[39m dataset_utils\u001b[39m.\u001b[39mlabels_to_dataset(\n\u001b[0;32m    345\u001b[0m         labels, label_mode, num_classes\n\u001b[0;32m    346\u001b[0m     )\n",
      "File \u001b[1;32mc:\\Users\\Clarissa Angelia\\AppData\\Local\\Programs\\Python\\Python310\\lib\\site-packages\\keras\\utils\\image_dataset.py:356\u001b[0m, in \u001b[0;36mload_image\u001b[1;34m(path, image_size, num_channels, interpolation, crop_to_aspect_ratio)\u001b[0m\n\u001b[0;32m    354\u001b[0m \u001b[39m\u001b[39m\u001b[39m\"\"\"Load an image from a path and resize it.\"\"\"\u001b[39;00m\n\u001b[0;32m    355\u001b[0m img \u001b[39m=\u001b[39m tf\u001b[39m.\u001b[39mio\u001b[39m.\u001b[39mread_file(path)\n\u001b[1;32m--> 356\u001b[0m img \u001b[39m=\u001b[39m tf\u001b[39m.\u001b[39;49mimage\u001b[39m.\u001b[39;49mdecode_image(\n\u001b[0;32m    357\u001b[0m     img, channels\u001b[39m=\u001b[39;49mnum_channels, expand_animations\u001b[39m=\u001b[39;49m\u001b[39mFalse\u001b[39;49;00m\n\u001b[0;32m    358\u001b[0m )\n\u001b[0;32m    359\u001b[0m \u001b[39mif\u001b[39;00m crop_to_aspect_ratio:\n\u001b[0;32m    360\u001b[0m     img \u001b[39m=\u001b[39m image_utils\u001b[39m.\u001b[39msmart_resize(\n\u001b[0;32m    361\u001b[0m         img, image_size, interpolation\u001b[39m=\u001b[39minterpolation\n\u001b[0;32m    362\u001b[0m     )\n",
      "File \u001b[1;32mc:\\Users\\Clarissa Angelia\\AppData\\Local\\Programs\\Python\\Python310\\lib\\site-packages\\tensorflow\\python\\util\\traceback_utils.py:150\u001b[0m, in \u001b[0;36mfilter_traceback.<locals>.error_handler\u001b[1;34m(*args, **kwargs)\u001b[0m\n\u001b[0;32m    148\u001b[0m filtered_tb \u001b[39m=\u001b[39m \u001b[39mNone\u001b[39;00m\n\u001b[0;32m    149\u001b[0m \u001b[39mtry\u001b[39;00m:\n\u001b[1;32m--> 150\u001b[0m   \u001b[39mreturn\u001b[39;00m fn(\u001b[39m*\u001b[39margs, \u001b[39m*\u001b[39m\u001b[39m*\u001b[39mkwargs)\n\u001b[0;32m    151\u001b[0m \u001b[39mexcept\u001b[39;00m \u001b[39mException\u001b[39;00m \u001b[39mas\u001b[39;00m e:\n\u001b[0;32m    152\u001b[0m   filtered_tb \u001b[39m=\u001b[39m _process_traceback_frames(e\u001b[39m.\u001b[39m__traceback__)\n",
      "File \u001b[1;32mc:\\Users\\Clarissa Angelia\\AppData\\Local\\Programs\\Python\\Python310\\lib\\site-packages\\tensorflow\\python\\util\\dispatch.py:1176\u001b[0m, in \u001b[0;36madd_dispatch_support.<locals>.decorator.<locals>.op_dispatch_handler\u001b[1;34m(*args, **kwargs)\u001b[0m\n\u001b[0;32m   1174\u001b[0m \u001b[39m# Fallback dispatch system (dispatch v1):\u001b[39;00m\n\u001b[0;32m   1175\u001b[0m \u001b[39mtry\u001b[39;00m:\n\u001b[1;32m-> 1176\u001b[0m   \u001b[39mreturn\u001b[39;00m dispatch_target(\u001b[39m*\u001b[39margs, \u001b[39m*\u001b[39m\u001b[39m*\u001b[39mkwargs)\n\u001b[0;32m   1177\u001b[0m \u001b[39mexcept\u001b[39;00m (\u001b[39mTypeError\u001b[39;00m, \u001b[39mValueError\u001b[39;00m):\n\u001b[0;32m   1178\u001b[0m   \u001b[39m# Note: convert_to_eager_tensor currently raises a ValueError, not a\u001b[39;00m\n\u001b[0;32m   1179\u001b[0m   \u001b[39m# TypeError, when given unexpected types.  So we need to catch both.\u001b[39;00m\n\u001b[0;32m   1180\u001b[0m   result \u001b[39m=\u001b[39m dispatch(op_dispatch_handler, args, kwargs)\n",
      "File \u001b[1;32mc:\\Users\\Clarissa Angelia\\AppData\\Local\\Programs\\Python\\Python310\\lib\\site-packages\\tensorflow\\python\\ops\\image_ops_impl.py:3298\u001b[0m, in \u001b[0;36mdecode_image\u001b[1;34m(contents, channels, dtype, name, expand_animations)\u001b[0m\n\u001b[0;32m   3291\u001b[0m   \u001b[39mreturn\u001b[39;00m convert_image_dtype(\n\u001b[0;32m   3292\u001b[0m       gen_image_ops\u001b[39m.\u001b[39mdecode_image(\n\u001b[0;32m   3293\u001b[0m           contents\u001b[39m=\u001b[39mcontents,\n\u001b[0;32m   3294\u001b[0m           channels\u001b[39m=\u001b[39mchannels,\n\u001b[0;32m   3295\u001b[0m           expand_animations\u001b[39m=\u001b[39mexpand_animations,\n\u001b[0;32m   3296\u001b[0m           dtype\u001b[39m=\u001b[39mdtype), dest_dtype)\n\u001b[0;32m   3297\u001b[0m \u001b[39melse\u001b[39;00m:\n\u001b[1;32m-> 3298\u001b[0m   \u001b[39mreturn\u001b[39;00m gen_image_ops\u001b[39m.\u001b[39;49mdecode_image(\n\u001b[0;32m   3299\u001b[0m       contents\u001b[39m=\u001b[39;49mcontents,\n\u001b[0;32m   3300\u001b[0m       channels\u001b[39m=\u001b[39;49mchannels,\n\u001b[0;32m   3301\u001b[0m       expand_animations\u001b[39m=\u001b[39;49mexpand_animations,\n\u001b[0;32m   3302\u001b[0m       dtype\u001b[39m=\u001b[39;49mdtype)\n",
      "File \u001b[1;32mc:\\Users\\Clarissa Angelia\\AppData\\Local\\Programs\\Python\\Python310\\lib\\site-packages\\tensorflow\\python\\ops\\gen_image_ops.py:1066\u001b[0m, in \u001b[0;36mdecode_image\u001b[1;34m(contents, channels, dtype, expand_animations, name)\u001b[0m\n\u001b[0;32m   1064\u001b[0m   expand_animations \u001b[39m=\u001b[39m \u001b[39mTrue\u001b[39;00m\n\u001b[0;32m   1065\u001b[0m expand_animations \u001b[39m=\u001b[39m _execute\u001b[39m.\u001b[39mmake_bool(expand_animations, \u001b[39m\"\u001b[39m\u001b[39mexpand_animations\u001b[39m\u001b[39m\"\u001b[39m)\n\u001b[1;32m-> 1066\u001b[0m _, _, _op, _outputs \u001b[39m=\u001b[39m _op_def_library\u001b[39m.\u001b[39;49m_apply_op_helper(\n\u001b[0;32m   1067\u001b[0m       \u001b[39m\"\u001b[39;49m\u001b[39mDecodeImage\u001b[39;49m\u001b[39m\"\u001b[39;49m, contents\u001b[39m=\u001b[39;49mcontents, channels\u001b[39m=\u001b[39;49mchannels, dtype\u001b[39m=\u001b[39;49mdtype,\n\u001b[0;32m   1068\u001b[0m                      expand_animations\u001b[39m=\u001b[39;49mexpand_animations, name\u001b[39m=\u001b[39;49mname)\n\u001b[0;32m   1069\u001b[0m _result \u001b[39m=\u001b[39m _outputs[:]\n\u001b[0;32m   1070\u001b[0m \u001b[39mif\u001b[39;00m _execute\u001b[39m.\u001b[39mmust_record_gradient():\n",
      "File \u001b[1;32mc:\\Users\\Clarissa Angelia\\AppData\\Local\\Programs\\Python\\Python310\\lib\\site-packages\\tensorflow\\python\\framework\\op_def_library.py:797\u001b[0m, in \u001b[0;36m_apply_op_helper\u001b[1;34m(op_type_name, name, **keywords)\u001b[0m\n\u001b[0;32m    792\u001b[0m must_colocate_inputs \u001b[39m=\u001b[39m [val \u001b[39mfor\u001b[39;00m arg, val \u001b[39min\u001b[39;00m \u001b[39mzip\u001b[39m(op_def\u001b[39m.\u001b[39minput_arg, inputs)\n\u001b[0;32m    793\u001b[0m                         \u001b[39mif\u001b[39;00m arg\u001b[39m.\u001b[39mis_ref]\n\u001b[0;32m    794\u001b[0m \u001b[39mwith\u001b[39;00m _MaybeColocateWith(must_colocate_inputs):\n\u001b[0;32m    795\u001b[0m   \u001b[39m# Add Op to graph\u001b[39;00m\n\u001b[0;32m    796\u001b[0m   \u001b[39m# pylint: disable=protected-access\u001b[39;00m\n\u001b[1;32m--> 797\u001b[0m   op \u001b[39m=\u001b[39m g\u001b[39m.\u001b[39;49m_create_op_internal(op_type_name, inputs, dtypes\u001b[39m=\u001b[39;49m\u001b[39mNone\u001b[39;49;00m,\n\u001b[0;32m    798\u001b[0m                              name\u001b[39m=\u001b[39;49mscope, input_types\u001b[39m=\u001b[39;49minput_types,\n\u001b[0;32m    799\u001b[0m                              attrs\u001b[39m=\u001b[39;49mattr_protos, op_def\u001b[39m=\u001b[39;49mop_def)\n\u001b[0;32m    801\u001b[0m \u001b[39m# `outputs` is returned as a separate return value so that the output\u001b[39;00m\n\u001b[0;32m    802\u001b[0m \u001b[39m# tensors can the `op` per se can be decoupled so that the\u001b[39;00m\n\u001b[0;32m    803\u001b[0m \u001b[39m# `op_callbacks` can function properly. See framework/op_callbacks.py\u001b[39;00m\n\u001b[0;32m    804\u001b[0m \u001b[39m# for more details.\u001b[39;00m\n\u001b[0;32m    805\u001b[0m outputs \u001b[39m=\u001b[39m op\u001b[39m.\u001b[39moutputs\n",
      "File \u001b[1;32mc:\\Users\\Clarissa Angelia\\AppData\\Local\\Programs\\Python\\Python310\\lib\\site-packages\\tensorflow\\python\\framework\\func_graph.py:735\u001b[0m, in \u001b[0;36mFuncGraph._create_op_internal\u001b[1;34m(self, op_type, inputs, dtypes, input_types, name, attrs, op_def, compute_device)\u001b[0m\n\u001b[0;32m    733\u001b[0m   inp \u001b[39m=\u001b[39m \u001b[39mself\u001b[39m\u001b[39m.\u001b[39mcapture(inp)\n\u001b[0;32m    734\u001b[0m   captured_inputs\u001b[39m.\u001b[39mappend(inp)\n\u001b[1;32m--> 735\u001b[0m \u001b[39mreturn\u001b[39;00m \u001b[39msuper\u001b[39;49m(FuncGraph, \u001b[39mself\u001b[39;49m)\u001b[39m.\u001b[39;49m_create_op_internal(  \u001b[39m# pylint: disable=protected-access\u001b[39;49;00m\n\u001b[0;32m    736\u001b[0m     op_type, captured_inputs, dtypes, input_types, name, attrs, op_def,\n\u001b[0;32m    737\u001b[0m     compute_device)\n",
      "File \u001b[1;32mc:\\Users\\Clarissa Angelia\\AppData\\Local\\Programs\\Python\\Python310\\lib\\site-packages\\tensorflow\\python\\framework\\ops.py:3800\u001b[0m, in \u001b[0;36mGraph._create_op_internal\u001b[1;34m(self, op_type, inputs, dtypes, input_types, name, attrs, op_def, compute_device)\u001b[0m\n\u001b[0;32m   3797\u001b[0m \u001b[39m# _create_op_helper mutates the new Operation. `_mutation_lock` ensures a\u001b[39;00m\n\u001b[0;32m   3798\u001b[0m \u001b[39m# Session.run call cannot occur between creating and mutating the op.\u001b[39;00m\n\u001b[0;32m   3799\u001b[0m \u001b[39mwith\u001b[39;00m \u001b[39mself\u001b[39m\u001b[39m.\u001b[39m_mutation_lock():\n\u001b[1;32m-> 3800\u001b[0m   ret \u001b[39m=\u001b[39m Operation(\n\u001b[0;32m   3801\u001b[0m       node_def,\n\u001b[0;32m   3802\u001b[0m       \u001b[39mself\u001b[39;49m,\n\u001b[0;32m   3803\u001b[0m       inputs\u001b[39m=\u001b[39;49minputs,\n\u001b[0;32m   3804\u001b[0m       output_types\u001b[39m=\u001b[39;49mdtypes,\n\u001b[0;32m   3805\u001b[0m       control_inputs\u001b[39m=\u001b[39;49mcontrol_inputs,\n\u001b[0;32m   3806\u001b[0m       input_types\u001b[39m=\u001b[39;49minput_types,\n\u001b[0;32m   3807\u001b[0m       original_op\u001b[39m=\u001b[39;49m\u001b[39mself\u001b[39;49m\u001b[39m.\u001b[39;49m_default_original_op,\n\u001b[0;32m   3808\u001b[0m       op_def\u001b[39m=\u001b[39;49mop_def)\n\u001b[0;32m   3809\u001b[0m   \u001b[39mself\u001b[39m\u001b[39m.\u001b[39m_create_op_helper(ret, compute_device\u001b[39m=\u001b[39mcompute_device)\n\u001b[0;32m   3810\u001b[0m \u001b[39mreturn\u001b[39;00m ret\n",
      "File \u001b[1;32mc:\\Users\\Clarissa Angelia\\AppData\\Local\\Programs\\Python\\Python310\\lib\\site-packages\\tensorflow\\python\\framework\\ops.py:2108\u001b[0m, in \u001b[0;36mOperation.__init__\u001b[1;34m(***failed resolving arguments***)\u001b[0m\n\u001b[0;32m   2105\u001b[0m     control_input_ops\u001b[39m.\u001b[39mappend(control_op)\n\u001b[0;32m   2107\u001b[0m \u001b[39m# Initialize c_op from node_def and other inputs\u001b[39;00m\n\u001b[1;32m-> 2108\u001b[0m c_op \u001b[39m=\u001b[39m _create_c_op(g, node_def, inputs, control_input_ops, op_def\u001b[39m=\u001b[39;49mop_def)\n\u001b[0;32m   2109\u001b[0m \u001b[39mself\u001b[39m\u001b[39m.\u001b[39m_init_from_c_op(c_op\u001b[39m=\u001b[39mc_op, g\u001b[39m=\u001b[39mg)\n\u001b[0;32m   2111\u001b[0m \u001b[39mself\u001b[39m\u001b[39m.\u001b[39m_original_op \u001b[39m=\u001b[39m original_op\n",
      "File \u001b[1;32mc:\\Users\\Clarissa Angelia\\AppData\\Local\\Programs\\Python\\Python310\\lib\\site-packages\\tensorflow\\python\\util\\traceback_utils.py:150\u001b[0m, in \u001b[0;36mfilter_traceback.<locals>.error_handler\u001b[1;34m(*args, **kwargs)\u001b[0m\n\u001b[0;32m    148\u001b[0m filtered_tb \u001b[39m=\u001b[39m \u001b[39mNone\u001b[39;00m\n\u001b[0;32m    149\u001b[0m \u001b[39mtry\u001b[39;00m:\n\u001b[1;32m--> 150\u001b[0m   \u001b[39mreturn\u001b[39;00m fn(\u001b[39m*\u001b[39margs, \u001b[39m*\u001b[39m\u001b[39m*\u001b[39mkwargs)\n\u001b[0;32m    151\u001b[0m \u001b[39mexcept\u001b[39;00m \u001b[39mException\u001b[39;00m \u001b[39mas\u001b[39;00m e:\n\u001b[0;32m    152\u001b[0m   filtered_tb \u001b[39m=\u001b[39m _process_traceback_frames(e\u001b[39m.\u001b[39m__traceback__)\n",
      "File \u001b[1;32mc:\\Users\\Clarissa Angelia\\AppData\\Local\\Programs\\Python\\Python310\\lib\\site-packages\\tensorflow\\python\\framework\\ops.py:1939\u001b[0m, in \u001b[0;36m_create_c_op\u001b[1;34m(graph, node_def, inputs, control_inputs, op_def, extract_traceback)\u001b[0m\n\u001b[0;32m   1937\u001b[0m \u001b[39m# pylint: disable=protected-access\u001b[39;00m\n\u001b[0;32m   1938\u001b[0m \u001b[39mwith\u001b[39;00m graph\u001b[39m.\u001b[39m_c_graph\u001b[39m.\u001b[39mget() \u001b[39mas\u001b[39;00m c_graph:\n\u001b[1;32m-> 1939\u001b[0m   op_desc \u001b[39m=\u001b[39m pywrap_tf_session\u001b[39m.\u001b[39;49mTF_NewOperation(c_graph,\n\u001b[0;32m   1940\u001b[0m                                               compat\u001b[39m.\u001b[39;49mas_str(node_def\u001b[39m.\u001b[39;49mop),\n\u001b[0;32m   1941\u001b[0m                                               compat\u001b[39m.\u001b[39;49mas_str(node_def\u001b[39m.\u001b[39;49mname))\n\u001b[0;32m   1942\u001b[0m \u001b[39mif\u001b[39;00m node_def\u001b[39m.\u001b[39mdevice:\n\u001b[0;32m   1943\u001b[0m   pywrap_tf_session\u001b[39m.\u001b[39mTF_SetDevice(op_desc, compat\u001b[39m.\u001b[39mas_str(node_def\u001b[39m.\u001b[39mdevice))\n",
      "\u001b[1;31mKeyboardInterrupt\u001b[0m: "
     ]
    }
   ],
   "source": [
    "path = 'D:/Semester 6/Deep Learning/train_data/train_10class/'\n",
    "#       C:/Kuliah/Semester 6/Deep Learning/Data/train_100class/train_10class/410_sulphur-crested cockatoo\n",
    "path_class = ['410_sulphur-crested cockatoo','413_bee eater','421_black swan', '442_great white shark', '450_goldfish',\n",
    "        '460_mud turtle', '480_green snake', '500_tree frog', '603_scorpion', '607_black widow']\n",
    "class_prob = [0.8, 0.3, 0.5, 0.9, 0.7, 0.6, 0.1, 0.5, 0.4, 0.2]\n",
    "train_ds = None\n",
    "# train_ds = tf.data.Dataset.from_tensor_slices([])\n",
    "# print(train_ds.class_names)\n",
    "for i, path_i in enumerate(path_class) :\n",
    "    \n",
    "    temp = tf.keras.utils.image_dataset_from_directory(\n",
    "\n",
    "        directory=path+path_i,\n",
    "        labels= None,\n",
    "        label_mode='categorical',\n",
    "        color_mode='rgb',\n",
    "        batch_size=None,\n",
    "        image_size=(224,224),\n",
    "        shuffle=True,\n",
    "        validation_split=class_prob[i],\n",
    "        subset=\"training\",\n",
    "        seed=42\n",
    "    )\n",
    "    temp.class_names= path_i\n",
    "    # print(temp.class_names)\n",
    "\n",
    "    temp = tf.data.Dataset.sample_from_datasets([temp], weights=[class_prob[i]])\n",
    "    # print(temp)\n",
    "    # train_ds = tf.data.Dataset.from_tensor_slices(temp)\n",
    "\n",
    "    if i == 0 :\n",
    "        train_ds = temp\n",
    "        temp_name = temp.class_names\n",
    "        train_ds.class_names = []\n",
    "        train_ds.class_names.append(temp_name)\n",
    "        # train_ds.class_names = []\n",
    "        print(train_ds.class_names)\n",
    "    else:\n",
    "        train_ds.concatenate(temp)\n",
    "        train_ds.class_names.append(temp.class_names)\n",
    "        \n",
    "# print(train_ds.class_names)\n",
    "train_ds_label = tf.data.Dataset.from_tensor_slices([train_ds.class_names])\n",
    "# train_ds = tf.data.Dataset.from_tensor_slices(train_ds, (train_ds_label))\n",
    "train_ds = tf.data.Dataset.zip((train_ds,train_ds_label))"
   ]
  },
  {
   "cell_type": "code",
   "execution_count": 3,
   "metadata": {},
   "outputs": [
    {
     "name": "stdout",
     "output_type": "stream",
     "text": [
      "Found 7564 files belonging to 10 classes.\n",
      "Using 6052 files for training.\n"
     ]
    }
   ],
   "source": [
    "path = 'D:/Semester 6/Deep Learning/train_data/imbalance_train_10class'\n",
    "\n",
    "train_ds = tf.keras.utils.image_dataset_from_directory(\n",
    "    directory=path,\n",
    "    labels='inferred',\n",
    "    label_mode='categorical',\n",
    "    color_mode='rgb',\n",
    "    batch_size=None,\n",
    "    image_size=(224,224),\n",
    "    shuffle=True,\n",
    "    validation_split=0.2,\n",
    "    subset=\"training\",\n",
    "    seed=42\n",
    "\n",
    ")"
   ]
  },
  {
   "cell_type": "code",
   "execution_count": null,
   "metadata": {},
   "outputs": [],
   "source": [
    "train_ds"
   ]
  },
  {
   "attachments": {},
   "cell_type": "markdown",
   "metadata": {},
   "source": [
    "Balance Dataset"
   ]
  },
  {
   "cell_type": "code",
   "execution_count": 4,
   "metadata": {},
   "outputs": [
    {
     "name": "stdout",
     "output_type": "stream",
     "text": [
      "Found 13000 files belonging to 10 classes.\n",
      "Using 10400 files for training.\n"
     ]
    }
   ],
   "source": [
    "path = 'D:/Semester 6/Deep Learning/train_data/train_10class'\n",
    "\n",
    "train_ds = tf.keras.utils.image_dataset_from_directory(\n",
    "    directory=path,\n",
    "    labels='inferred',\n",
    "    label_mode='categorical',\n",
    "    color_mode='rgb',\n",
    "    batch_size=None,\n",
    "    image_size=(224,224),\n",
    "    shuffle=True,\n",
    "    validation_split=0.2,\n",
    "    subset=\"training\",\n",
    "    seed=42\n",
    "\n",
    ")\n",
    "# # labels='inferred',\n",
    "# #                                                         label_mode='categorical',    \n",
    "# #                                                         color_mode='rgb',\n",
    "# #                                                         batch_size=None,\n",
    "# #                                                         image_size=(224, 224),\n",
    "# #                                                         shuffle=True,\n",
    "# #                                                         seed=42,    \n",
    "# #                                                         validation_split=0.2,\n",
    "# #                                                         subset=\"training\""
   ]
  },
  {
   "attachments": {},
   "cell_type": "markdown",
   "metadata": {},
   "source": [
    "Split Validation Dataset"
   ]
  },
  {
   "cell_type": "code",
   "execution_count": 4,
   "metadata": {},
   "outputs": [
    {
     "name": "stdout",
     "output_type": "stream",
     "text": [
      "Found 7564 files belonging to 10 classes.\n",
      "Using 1512 files for validation.\n"
     ]
    }
   ],
   "source": [
    "validation_ds = tf.keras.utils.image_dataset_from_directory(\n",
    "    directory=path,\n",
    "    labels='inferred',\n",
    "    label_mode='categorical',\n",
    "    color_mode='rgb',\n",
    "    batch_size=None,\n",
    "    image_size=(224,224),\n",
    "    shuffle=True,\n",
    "    validation_split=0.2,\n",
    "    subset=\"validation\",\n",
    "    seed=42\n",
    ")"
   ]
  },
  {
   "cell_type": "code",
   "execution_count": null,
   "metadata": {},
   "outputs": [],
   "source": [
    "train_ds"
   ]
  },
  {
   "cell_type": "code",
   "execution_count": 6,
   "metadata": {},
   "outputs": [
    {
     "name": "stdout",
     "output_type": "stream",
     "text": [
      "10\n"
     ]
    }
   ],
   "source": [
    "totalClass = len(train_ds.class_names)\n",
    "\n",
    "print(totalClass)"
   ]
  },
  {
   "cell_type": "code",
   "execution_count": null,
   "metadata": {},
   "outputs": [],
   "source": [
    "train_ds.class_names"
   ]
  },
  {
   "attachments": {},
   "cell_type": "markdown",
   "metadata": {},
   "source": [
    "One Hot encoding label"
   ]
  },
  {
   "cell_type": "code",
   "execution_count": 7,
   "metadata": {},
   "outputs": [
    {
     "data": {
      "text/plain": [
       "<tf.Tensor: shape=(10, 10), dtype=float32, numpy=\n",
       "array([[1., 0., 0., 0., 0., 0., 0., 0., 0., 0.],\n",
       "       [0., 1., 0., 0., 0., 0., 0., 0., 0., 0.],\n",
       "       [0., 0., 1., 0., 0., 0., 0., 0., 0., 0.],\n",
       "       [0., 0., 0., 1., 0., 0., 0., 0., 0., 0.],\n",
       "       [0., 0., 0., 0., 1., 0., 0., 0., 0., 0.],\n",
       "       [0., 0., 0., 0., 0., 1., 0., 0., 0., 0.],\n",
       "       [0., 0., 0., 0., 0., 0., 1., 0., 0., 0.],\n",
       "       [0., 0., 0., 0., 0., 0., 0., 1., 0., 0.],\n",
       "       [0., 0., 0., 0., 0., 0., 0., 0., 1., 0.],\n",
       "       [0., 0., 0., 0., 0., 0., 0., 0., 0., 1.]], dtype=float32)>"
      ]
     },
     "execution_count": 7,
     "metadata": {},
     "output_type": "execute_result"
    }
   ],
   "source": [
    "# target_Classes = [410,413,421,442,450,460,480,500,603,607]\n",
    "target_Classes = [i for i in range(totalClass)]\n",
    "one_hot_encoding = tf.one_hot(target_Classes, depth=totalClass)\n",
    "one_hot_encoding"
   ]
  },
  {
   "cell_type": "code",
   "execution_count": 8,
   "metadata": {},
   "outputs": [
    {
     "name": "stdout",
     "output_type": "stream",
     "text": [
      "(224, 224, 3)\n",
      "(10,)\n",
      "<ShuffleDataset element_spec=(TensorSpec(shape=(224, 224, 3), dtype=tf.float32, name=None), TensorSpec(shape=(10,), dtype=tf.float32, name=None))>\n"
     ]
    }
   ],
   "source": [
    "for image_batch, labels_batch in train_ds:\n",
    "  print(image_batch.shape)\n",
    "  print(labels_batch.shape)\n",
    "  break\n",
    "\n",
    "print(train_ds)\n",
    "# for image_batch in train_ds:\n",
    "#       print(image_batch.shape)\n",
    "#   break"
   ]
  },
  {
   "cell_type": "code",
   "execution_count": null,
   "metadata": {},
   "outputs": [],
   "source": [
    "# def preprocess_image(image, label) :\n",
    "#   image = tf.image.resize(image, (224,224))\n",
    "#   return image / 255. , label\n",
    "  # return tf.cast(image,tf.float32) / 255.0, tf.one_hot(label, depth=totalClass)"
   ]
  },
  {
   "cell_type": "code",
   "execution_count": 9,
   "metadata": {},
   "outputs": [],
   "source": [
    "def preprocess_image(image, label):\n",
    "    image = tf.image.per_image_standardization(image-127)\n",
    "    return image, label"
   ]
  },
  {
   "cell_type": "code",
   "execution_count": 10,
   "metadata": {},
   "outputs": [
    {
     "data": {
      "text/plain": [
       "<BatchDataset element_spec=(TensorSpec(shape=(None, 224, 224, 3), dtype=tf.float32, name=None), TensorSpec(shape=(None, 10), dtype=tf.float32, name=None))>"
      ]
     },
     "execution_count": 10,
     "metadata": {},
     "output_type": "execute_result"
    }
   ],
   "source": [
    "mapped_train_data = train_ds.map(preprocess_image).batch(32)\n",
    "mapped_validation_data = validation_ds.map(preprocess_image).batch(32)\n",
    "mapped_train_data"
   ]
  },
  {
   "cell_type": "code",
   "execution_count": 11,
   "metadata": {},
   "outputs": [],
   "source": [
    "model_1 = tf.keras.models.Sequential([\n",
    "    # convolutional layer pertama\n",
    "    tf.keras.layers.Conv2D(filters=64,kernel_size=(3,3),activation=\"relu\",input_shape=(224, 224, 3)),\n",
    "    tf.keras.layers.Conv2D(filters=64,kernel_size=(3,3),activation=\"relu\"),\n",
    "    tf.keras.layers.MaxPool2D(strides=2,pool_size=2, padding=\"valid\"),\n",
    "    #layer 2\n",
    "    tf.keras.layers.Conv2D(filters=128,kernel_size=(3,3),activation=\"relu\"),\n",
    "    tf.keras.layers.Conv2D(filters=128,kernel_size=(3,3),activation=\"relu\"),\n",
    "    tf.keras.layers.MaxPool2D(strides=2, pool_size=2, padding=\"valid\"),\n",
    "    #layer 3\n",
    "    tf.keras.layers.Conv2D(filters=256,kernel_size=(3,3),activation=\"relu\"),\n",
    "    tf.keras.layers.Conv2D(filters=256,kernel_size=(3,3),activation=\"relu\"),\n",
    "    tf.keras.layers.Conv2D(filters=256,kernel_size=(3,3),activation=\"relu\"),\n",
    "    tf.keras.layers.MaxPool2D(strides=2, pool_size=2, padding=\"valid\"),\n",
    "    #layer 4\n",
    "    tf.keras.layers.Conv2D(filters=512,kernel_size=(3,3),activation=\"relu\"),\n",
    "    tf.keras.layers.Conv2D(filters=512,kernel_size=(3,3),activation=\"relu\"),\n",
    "    tf.keras.layers.Conv2D(filters=512,kernel_size=(1,1),activation=\"relu\"),\n",
    "    tf.keras.layers.MaxPool2D(strides=2, pool_size=2, padding=\"valid\"),\n",
    "    #layer 5\n",
    "    tf.keras.layers.Conv2D(filters=512,kernel_size=(3,3),activation=\"relu\"),\n",
    "    tf.keras.layers.Conv2D(filters=512,kernel_size=(3,3),activation=\"relu\"),\n",
    "    tf.keras.layers.Conv2D(filters=512,kernel_size=(1,1),activation=\"relu\"),\n",
    "    tf.keras.layers.MaxPool2D(strides=2, pool_size=2, padding=\"valid\"),\n",
    "    # flatten layer\n",
    "    tf.keras.layers.Flatten(),\n",
    "    # densing\n",
    "    tf.keras.layers.Dense(4096,activation=\"relu\"),\n",
    "    tf.keras.layers.Dense(4096,activation=\"relu\"),\n",
    "    tf.keras.layers.Dense(totalClass,activation=\"softmax\"),         #jangan lupa ganti sesuai jumlah class\n",
    "])"
   ]
  },
  {
   "cell_type": "code",
   "execution_count": 12,
   "metadata": {},
   "outputs": [],
   "source": [
    "def plot_loss_curves(history):\n",
    "    \"\"\"\n",
    "    Returns separate loss curves for training and validation metrics\n",
    "    \"\"\"\n",
    "    loss = history.history['loss']\n",
    "    val_loss = history.history['val_loss']\n",
    "\n",
    "    accuracy = history.history['accuracy']\n",
    "    val_accuracy = history.history['val_accuracy']\n",
    "\n",
    "    epochs = range(len(history.history['loss'])) # How many epochs\n",
    "\n",
    "    # Plot accuracy\n",
    "    fig, axs = plt.subplots(1,2,figsize=(10,5))\n",
    "    axs[0].plot(epochs, loss, label=\"training_loss\")\n",
    "    axs[0].plot(epochs, val_loss, label=\"val_loss\")\n",
    "    axs[0].set_title(\"Loss\")\n",
    "    axs[0].set(xlabel=\"epochs\")\n",
    "    axs[0].legend()\n",
    "    \n",
    "    axs[1].plot(epochs, accuracy, label=\"training_accuracy\")\n",
    "    axs[1].plot(epochs, val_accuracy, label=\"val_accuracy\")\n",
    "    axs[1].set_title(\"Accuracy\")\n",
    "    axs[1].set(xlabel=\"epochs\")\n",
    "    axs[1].legend()"
   ]
  },
  {
   "cell_type": "code",
   "execution_count": 13,
   "metadata": {},
   "outputs": [],
   "source": [
    "model_1.compile(loss=\"categorical_crossentropy\", optimizer=tf.keras.optimizers.legacy.Adam(learning_rate=0.00001),metrics=['accuracy'])"
   ]
  },
  {
   "cell_type": "code",
   "execution_count": 14,
   "metadata": {},
   "outputs": [
    {
     "name": "stdout",
     "output_type": "stream",
     "text": [
      "Epoch 1/100\n",
      "190/190 [==============================] - 214s 867ms/step - loss: 1.9985 - accuracy: 0.2804 - val_loss: 1.6937 - val_accuracy: 0.4352\n",
      "Epoch 2/100\n",
      "190/190 [==============================] - 154s 804ms/step - loss: 1.3880 - accuracy: 0.5203 - val_loss: 1.2419 - val_accuracy: 0.5813\n",
      "Epoch 3/100\n",
      "190/190 [==============================] - 154s 803ms/step - loss: 1.2222 - accuracy: 0.5711 - val_loss: 1.1949 - val_accuracy: 0.5741\n",
      "Epoch 4/100\n",
      "190/190 [==============================] - 160s 839ms/step - loss: 1.1429 - accuracy: 0.5947 - val_loss: 1.1460 - val_accuracy: 0.5939\n",
      "Epoch 5/100\n",
      "190/190 [==============================] - 157s 821ms/step - loss: 1.0809 - accuracy: 0.6214 - val_loss: 1.1173 - val_accuracy: 0.6131\n",
      "Epoch 6/100\n",
      "190/190 [==============================] - 159s 828ms/step - loss: 1.0479 - accuracy: 0.6208 - val_loss: 1.0344 - val_accuracy: 0.6462\n",
      "Epoch 7/100\n",
      "190/190 [==============================] - 151s 789ms/step - loss: 0.9995 - accuracy: 0.6423 - val_loss: 1.0746 - val_accuracy: 0.6323\n",
      "Epoch 8/100\n",
      "190/190 [==============================] - 151s 786ms/step - loss: 0.9602 - accuracy: 0.6595 - val_loss: 1.0576 - val_accuracy: 0.6138\n",
      "Epoch 9/100\n",
      "190/190 [==============================] - 226s 1s/step - loss: 0.9224 - accuracy: 0.6687 - val_loss: 1.0551 - val_accuracy: 0.6435\n",
      "Epoch 10/100\n",
      "190/190 [==============================] - 275s 1s/step - loss: 0.8802 - accuracy: 0.6930 - val_loss: 0.9564 - val_accuracy: 0.6726\n",
      "Epoch 11/100\n",
      "190/190 [==============================] - 179s 927ms/step - loss: 0.8483 - accuracy: 0.7060 - val_loss: 0.9461 - val_accuracy: 0.6753\n",
      "Epoch 12/100\n",
      "190/190 [==============================] - 152s 794ms/step - loss: 0.8141 - accuracy: 0.7125 - val_loss: 0.9372 - val_accuracy: 0.6620\n",
      "Epoch 13/100\n",
      "190/190 [==============================] - 152s 797ms/step - loss: 0.7905 - accuracy: 0.7212 - val_loss: 0.8794 - val_accuracy: 0.7017\n",
      "Epoch 14/100\n",
      "190/190 [==============================] - 154s 806ms/step - loss: 0.7430 - accuracy: 0.7369 - val_loss: 0.9804 - val_accuracy: 0.6660\n",
      "Epoch 15/100\n",
      "190/190 [==============================] - 157s 822ms/step - loss: 0.7185 - accuracy: 0.7462 - val_loss: 0.9053 - val_accuracy: 0.6958\n",
      "Epoch 16/100\n",
      "190/190 [==============================] - 158s 826ms/step - loss: 0.6759 - accuracy: 0.7627 - val_loss: 0.8840 - val_accuracy: 0.7156\n",
      "Epoch 17/100\n",
      "190/190 [==============================] - 156s 815ms/step - loss: 0.6345 - accuracy: 0.7758 - val_loss: 0.9135 - val_accuracy: 0.7017\n",
      "Epoch 18/100\n",
      "190/190 [==============================] - 154s 805ms/step - loss: 0.6187 - accuracy: 0.7829 - val_loss: 0.8665 - val_accuracy: 0.7024\n",
      "Epoch 19/100\n",
      "190/190 [==============================] - 155s 809ms/step - loss: 0.5842 - accuracy: 0.7938 - val_loss: 0.8814 - val_accuracy: 0.7077\n",
      "Epoch 20/100\n",
      "190/190 [==============================] - 162s 849ms/step - loss: 0.5347 - accuracy: 0.8090 - val_loss: 0.9362 - val_accuracy: 0.7024\n",
      "Epoch 21/100\n",
      "190/190 [==============================] - 185s 970ms/step - loss: 0.4947 - accuracy: 0.8300 - val_loss: 0.9383 - val_accuracy: 0.7235\n",
      "Epoch 22/100\n",
      "190/190 [==============================] - 165s 846ms/step - loss: 0.4777 - accuracy: 0.8308 - val_loss: 0.9247 - val_accuracy: 0.7169\n",
      "Epoch 23/100\n",
      "190/190 [==============================] - 174s 910ms/step - loss: 0.4113 - accuracy: 0.8571 - val_loss: 0.9666 - val_accuracy: 0.7083\n",
      "Epoch 24/100\n",
      "190/190 [==============================] - 174s 910ms/step - loss: 0.3812 - accuracy: 0.8662 - val_loss: 0.9188 - val_accuracy: 0.7401\n",
      "Epoch 25/100\n",
      "190/190 [==============================] - 185s 966ms/step - loss: 0.3439 - accuracy: 0.8776 - val_loss: 0.9359 - val_accuracy: 0.7500\n",
      "Epoch 26/100\n",
      "190/190 [==============================] - 204s 1s/step - loss: 0.3185 - accuracy: 0.8896 - val_loss: 0.9968 - val_accuracy: 0.7308\n",
      "Epoch 27/100\n",
      "190/190 [==============================] - 156s 816ms/step - loss: 0.2751 - accuracy: 0.9015 - val_loss: 1.1536 - val_accuracy: 0.6991\n",
      "Epoch 28/100\n",
      "190/190 [==============================] - 161s 845ms/step - loss: 0.2295 - accuracy: 0.9179 - val_loss: 1.0935 - val_accuracy: 0.7341\n",
      "Epoch 29/100\n",
      "190/190 [==============================] - 162s 843ms/step - loss: 0.2340 - accuracy: 0.9177 - val_loss: 1.1399 - val_accuracy: 0.7143\n",
      "Epoch 30/100\n",
      "190/190 [==============================] - 157s 822ms/step - loss: 0.1908 - accuracy: 0.9379 - val_loss: 1.1998 - val_accuracy: 0.7295\n",
      "Epoch 31/100\n",
      "190/190 [==============================] - 173s 904ms/step - loss: 0.1675 - accuracy: 0.9458 - val_loss: 1.3092 - val_accuracy: 0.7050\n",
      "Epoch 32/100\n",
      "190/190 [==============================] - 165s 860ms/step - loss: 0.1626 - accuracy: 0.9465 - val_loss: 1.3441 - val_accuracy: 0.7123\n",
      "Epoch 33/100\n",
      "190/190 [==============================] - 168s 878ms/step - loss: 0.1313 - accuracy: 0.9537 - val_loss: 1.2990 - val_accuracy: 0.7262\n",
      "Epoch 34/100\n",
      "190/190 [==============================] - 170s 888ms/step - loss: 0.1331 - accuracy: 0.9546 - val_loss: 1.6540 - val_accuracy: 0.7123\n",
      "Epoch 35/100\n",
      "190/190 [==============================] - 158s 826ms/step - loss: 0.0871 - accuracy: 0.9717 - val_loss: 1.5279 - val_accuracy: 0.7189\n",
      "Epoch 36/100\n",
      "190/190 [==============================] - 182s 949ms/step - loss: 0.1394 - accuracy: 0.9521 - val_loss: 1.8591 - val_accuracy: 0.6726\n",
      "Epoch 37/100\n",
      "190/190 [==============================] - 201s 1s/step - loss: 0.1182 - accuracy: 0.9630 - val_loss: 1.5363 - val_accuracy: 0.7222\n",
      "Epoch 38/100\n",
      "190/190 [==============================] - 175s 914ms/step - loss: 0.0393 - accuracy: 0.9909 - val_loss: 1.5935 - val_accuracy: 0.7421\n",
      "Epoch 39/100\n",
      "190/190 [==============================] - 157s 818ms/step - loss: 0.0602 - accuracy: 0.9810 - val_loss: 1.8226 - val_accuracy: 0.7163\n",
      "Epoch 40/100\n",
      "190/190 [==============================] - 156s 814ms/step - loss: 0.1516 - accuracy: 0.9494 - val_loss: 1.4825 - val_accuracy: 0.7196\n",
      "Epoch 41/100\n",
      "190/190 [==============================] - 149s 779ms/step - loss: 0.0988 - accuracy: 0.9701 - val_loss: 1.7450 - val_accuracy: 0.6753\n",
      "Epoch 42/100\n",
      "190/190 [==============================] - 169s 887ms/step - loss: 0.1296 - accuracy: 0.9595 - val_loss: 1.4643 - val_accuracy: 0.7255\n",
      "Epoch 43/100\n",
      "190/190 [==============================] - 205s 1s/step - loss: 0.0300 - accuracy: 0.9939 - val_loss: 1.6017 - val_accuracy: 0.7401\n",
      "Epoch 44/100\n",
      "190/190 [==============================] - 204s 1s/step - loss: 0.0086 - accuracy: 0.9993 - val_loss: 1.7413 - val_accuracy: 0.7368\n",
      "Epoch 45/100\n",
      "190/190 [==============================] - 179s 934ms/step - loss: 0.0048 - accuracy: 0.9997 - val_loss: 1.7866 - val_accuracy: 0.7474\n",
      "Epoch 46/100\n",
      "190/190 [==============================] - 199s 1s/step - loss: 0.0033 - accuracy: 0.9998 - val_loss: 1.8980 - val_accuracy: 0.7421\n",
      "Epoch 47/100\n",
      "190/190 [==============================] - 209s 1s/step - loss: 0.0018 - accuracy: 1.0000 - val_loss: 1.9581 - val_accuracy: 0.7447\n",
      "Epoch 48/100\n",
      "190/190 [==============================] - 179s 935ms/step - loss: 0.0013 - accuracy: 1.0000 - val_loss: 2.0267 - val_accuracy: 0.7388\n",
      "Epoch 49/100\n",
      "190/190 [==============================] - 183s 957ms/step - loss: 9.7232e-04 - accuracy: 1.0000 - val_loss: 2.0730 - val_accuracy: 0.7440\n",
      "Epoch 50/100\n",
      "190/190 [==============================] - 172s 898ms/step - loss: 7.7669e-04 - accuracy: 1.0000 - val_loss: 2.1443 - val_accuracy: 0.7401\n",
      "Epoch 51/100\n",
      "190/190 [==============================] - 175s 917ms/step - loss: 6.3332e-04 - accuracy: 1.0000 - val_loss: 2.1977 - val_accuracy: 0.7388\n",
      "Epoch 52/100\n",
      "190/190 [==============================] - 172s 899ms/step - loss: 5.2769e-04 - accuracy: 1.0000 - val_loss: 2.2406 - val_accuracy: 0.7414\n",
      "Epoch 53/100\n",
      "190/190 [==============================] - 159s 828ms/step - loss: 4.4299e-04 - accuracy: 1.0000 - val_loss: 2.2904 - val_accuracy: 0.7381\n",
      "Epoch 54/100\n",
      "190/190 [==============================] - 130s 677ms/step - loss: 3.6983e-04 - accuracy: 1.0000 - val_loss: 2.3388 - val_accuracy: 0.7368\n",
      "Epoch 55/100\n",
      "190/190 [==============================] - 130s 680ms/step - loss: 3.1905e-04 - accuracy: 1.0000 - val_loss: 2.3772 - val_accuracy: 0.7381\n",
      "Epoch 56/100\n",
      "190/190 [==============================] - 153s 799ms/step - loss: 2.7557e-04 - accuracy: 1.0000 - val_loss: 2.4246 - val_accuracy: 0.7381\n",
      "Epoch 57/100\n",
      "190/190 [==============================] - 135s 701ms/step - loss: 2.3255e-04 - accuracy: 1.0000 - val_loss: 2.4625 - val_accuracy: 0.7388\n",
      "Epoch 58/100\n",
      "190/190 [==============================] - 135s 705ms/step - loss: 2.0448e-04 - accuracy: 1.0000 - val_loss: 2.5038 - val_accuracy: 0.7394\n",
      "Epoch 59/100\n",
      "190/190 [==============================] - 133s 694ms/step - loss: 1.7625e-04 - accuracy: 1.0000 - val_loss: 2.5459 - val_accuracy: 0.7341\n",
      "Epoch 60/100\n",
      "190/190 [==============================] - 134s 699ms/step - loss: 1.5254e-04 - accuracy: 1.0000 - val_loss: 2.5789 - val_accuracy: 0.7368\n",
      "Epoch 61/100\n",
      "190/190 [==============================] - 137s 717ms/step - loss: 1.3453e-04 - accuracy: 1.0000 - val_loss: 2.6256 - val_accuracy: 0.7348\n",
      "Epoch 62/100\n",
      "190/190 [==============================] - 131s 683ms/step - loss: 1.1742e-04 - accuracy: 1.0000 - val_loss: 2.6581 - val_accuracy: 0.7361\n",
      "Epoch 63/100\n",
      "190/190 [==============================] - 125s 654ms/step - loss: 1.0206e-04 - accuracy: 1.0000 - val_loss: 2.6928 - val_accuracy: 0.7381\n",
      "Epoch 64/100\n",
      "190/190 [==============================] - 125s 653ms/step - loss: 8.9918e-05 - accuracy: 1.0000 - val_loss: 2.7288 - val_accuracy: 0.7348\n",
      "Epoch 65/100\n",
      "190/190 [==============================] - 129s 673ms/step - loss: 7.9940e-05 - accuracy: 1.0000 - val_loss: 2.7675 - val_accuracy: 0.7341\n",
      "Epoch 66/100\n",
      "190/190 [==============================] - 125s 651ms/step - loss: 6.9863e-05 - accuracy: 1.0000 - val_loss: 2.8044 - val_accuracy: 0.7361\n",
      "Epoch 67/100\n",
      "190/190 [==============================] - 142s 742ms/step - loss: 6.1375e-05 - accuracy: 1.0000 - val_loss: 2.8351 - val_accuracy: 0.7354\n",
      "Epoch 68/100\n",
      "190/190 [==============================] - 148s 777ms/step - loss: 5.3176e-05 - accuracy: 1.0000 - val_loss: 2.8701 - val_accuracy: 0.7354\n",
      "Epoch 69/100\n",
      "190/190 [==============================] - 155s 813ms/step - loss: 4.7776e-05 - accuracy: 1.0000 - val_loss: 2.9068 - val_accuracy: 0.7328\n",
      "Epoch 70/100\n",
      "190/190 [==============================] - 190s 996ms/step - loss: 4.3218e-05 - accuracy: 1.0000 - val_loss: 2.9393 - val_accuracy: 0.7328\n",
      "Epoch 71/100\n",
      "190/190 [==============================] - 155s 808ms/step - loss: 3.8082e-05 - accuracy: 1.0000 - val_loss: 2.9730 - val_accuracy: 0.7348\n",
      "Epoch 72/100\n",
      "190/190 [==============================] - 165s 863ms/step - loss: 3.3808e-05 - accuracy: 1.0000 - val_loss: 3.0086 - val_accuracy: 0.7348\n",
      "Epoch 73/100\n",
      "190/190 [==============================] - 165s 864ms/step - loss: 2.9431e-05 - accuracy: 1.0000 - val_loss: 3.0368 - val_accuracy: 0.7354\n",
      "Epoch 74/100\n",
      "190/190 [==============================] - 161s 843ms/step - loss: 2.6566e-05 - accuracy: 1.0000 - val_loss: 3.0840 - val_accuracy: 0.7341\n",
      "Epoch 75/100\n",
      "190/190 [==============================] - 166s 866ms/step - loss: 2.3810e-05 - accuracy: 1.0000 - val_loss: 3.1104 - val_accuracy: 0.7348\n",
      "Epoch 76/100\n",
      "190/190 [==============================] - 169s 882ms/step - loss: 2.0946e-05 - accuracy: 1.0000 - val_loss: 3.1487 - val_accuracy: 0.7321\n",
      "Epoch 77/100\n",
      "190/190 [==============================] - 168s 878ms/step - loss: 1.8603e-05 - accuracy: 1.0000 - val_loss: 3.1746 - val_accuracy: 0.7335\n",
      "Epoch 78/100\n",
      "190/190 [==============================] - 170s 885ms/step - loss: 1.6406e-05 - accuracy: 1.0000 - val_loss: 3.2139 - val_accuracy: 0.7348\n",
      "Epoch 79/100\n",
      "190/190 [==============================] - 157s 816ms/step - loss: 1.4787e-05 - accuracy: 1.0000 - val_loss: 3.2536 - val_accuracy: 0.7335\n",
      "Epoch 80/100\n",
      "190/190 [==============================] - 228s 1s/step - loss: 1.2717e-05 - accuracy: 1.0000 - val_loss: 3.2770 - val_accuracy: 0.7341\n",
      "Epoch 81/100\n",
      "190/190 [==============================] - 240s 1s/step - loss: 1.1562e-05 - accuracy: 1.0000 - val_loss: 3.3130 - val_accuracy: 0.7328\n",
      "Epoch 82/100\n",
      "190/190 [==============================] - 227s 1s/step - loss: 1.0397e-05 - accuracy: 1.0000 - val_loss: 3.3485 - val_accuracy: 0.7328\n",
      "Epoch 83/100\n",
      "190/190 [==============================] - 232s 1s/step - loss: 9.1460e-06 - accuracy: 1.0000 - val_loss: 3.3706 - val_accuracy: 0.7348\n",
      "Epoch 84/100\n",
      "190/190 [==============================] - 228s 1s/step - loss: 8.2615e-06 - accuracy: 1.0000 - val_loss: 3.4052 - val_accuracy: 0.7354\n",
      "Epoch 85/100\n",
      "190/190 [==============================] - 242s 1s/step - loss: 7.2821e-06 - accuracy: 1.0000 - val_loss: 3.4468 - val_accuracy: 0.7348\n",
      "Epoch 86/100\n",
      "190/190 [==============================] - 226s 1s/step - loss: 0.6056 - accuracy: 0.8746 - val_loss: 0.9483 - val_accuracy: 0.7156\n",
      "Epoch 87/100\n",
      "190/190 [==============================] - 228s 1s/step - loss: 0.2300 - accuracy: 0.9238 - val_loss: 1.2422 - val_accuracy: 0.7302\n",
      "Epoch 88/100\n",
      "190/190 [==============================] - 220s 1s/step - loss: 0.0359 - accuracy: 0.9936 - val_loss: 1.5775 - val_accuracy: 0.7315\n",
      "Epoch 89/100\n",
      "190/190 [==============================] - 229s 1s/step - loss: 0.0658 - accuracy: 0.9812 - val_loss: 2.1257 - val_accuracy: 0.6753\n",
      "Epoch 90/100\n",
      "190/190 [==============================] - 184s 957ms/step - loss: 0.0872 - accuracy: 0.9731 - val_loss: 1.5360 - val_accuracy: 0.7328\n",
      "Epoch 91/100\n",
      "190/190 [==============================] - 143s 748ms/step - loss: 0.0123 - accuracy: 0.9979 - val_loss: 1.6714 - val_accuracy: 0.7381\n",
      "Epoch 92/100\n",
      "190/190 [==============================] - 143s 748ms/step - loss: 0.0060 - accuracy: 0.9990 - val_loss: 1.7499 - val_accuracy: 0.7361\n",
      "Epoch 93/100\n",
      "190/190 [==============================] - 143s 748ms/step - loss: 0.0016 - accuracy: 1.0000 - val_loss: 1.8059 - val_accuracy: 0.7447\n",
      "Epoch 94/100\n",
      "190/190 [==============================] - 143s 746ms/step - loss: 0.0010 - accuracy: 1.0000 - val_loss: 1.8874 - val_accuracy: 0.7348\n",
      "Epoch 95/100\n",
      "190/190 [==============================] - 142s 745ms/step - loss: 7.4795e-04 - accuracy: 1.0000 - val_loss: 1.9420 - val_accuracy: 0.7348\n",
      "Epoch 96/100\n",
      "190/190 [==============================] - 143s 747ms/step - loss: 5.8573e-04 - accuracy: 1.0000 - val_loss: 1.9919 - val_accuracy: 0.7368\n",
      "Epoch 97/100\n",
      "190/190 [==============================] - 142s 744ms/step - loss: 4.7403e-04 - accuracy: 1.0000 - val_loss: 2.0449 - val_accuracy: 0.7354\n",
      "Epoch 98/100\n",
      "190/190 [==============================] - 143s 746ms/step - loss: 3.9191e-04 - accuracy: 1.0000 - val_loss: 2.0844 - val_accuracy: 0.7374\n",
      "Epoch 99/100\n",
      "190/190 [==============================] - 142s 745ms/step - loss: 3.2498e-04 - accuracy: 1.0000 - val_loss: 2.1242 - val_accuracy: 0.7368\n",
      "Epoch 100/100\n",
      "190/190 [==============================] - 142s 745ms/step - loss: 2.7617e-04 - accuracy: 1.0000 - val_loss: 2.1667 - val_accuracy: 0.7388\n"
     ]
    }
   ],
   "source": [
    "history_1 = model_1.fit(mapped_train_data,\n",
    "                    validation_data=mapped_validation_data,\n",
    "                    epochs=100)"
   ]
  },
  {
   "cell_type": "code",
   "execution_count": 15,
   "metadata": {},
   "outputs": [
    {
     "data": {
      "image/png": "[encoded data removed]",
      "text/plain": [
       "<Figure size 1000x500 with 2 Axes>"
      ]
     },
     "metadata": {},
     "output_type": "display_data"
    }
   ],
   "source": [
    "plot_loss_curves(history_1)"
   ]
  },
  {
   "cell_type": "code",
   "execution_count": null,
   "metadata": {},
   "outputs": [],
   "source": []
  }
 ],
 "metadata": {
  "kernelspec": {
   "display_name": "Python 3",
   "language": "python",
   "name": "python3"
  },
  "language_info": {
   "codemirror_mode": {
    "name": "ipython",
    "version": 3
   },
   "file_extension": ".py",
   "mimetype": "text/x-python",
   "name": "python",
   "nbconvert_exporter": "python",
   "pygments_lexer": "ipython3",
   "version": "3.10.4"
  },
  "orig_nbformat": 4,
  "vscode": {
   "interpreter": {
    "hash": "26de051ba29f2982a8de78e945f0abaf191376122a1563185a90213a26c5da77"
   }
  }
 },
 "nbformat": 4,
 "nbformat_minor": 2
}
